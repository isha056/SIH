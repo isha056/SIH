{
 "cells": [
  {
   "cell_type": "code",
   "execution_count": 2,
   "metadata": {},
   "outputs": [],
   "source": [
    "import pandas as pd\n",
    "import numpy as np\n",
    "from sklearn.model_selection import train_test_split\n",
    "from sklearn.preprocessing import StandardScaler, MinMaxScaler, LabelEncoder"
   ]
  },
  {
   "cell_type": "code",
   "execution_count": null,
   "metadata": {},
   "outputs": [],
   "source": [
    "!head ou.csv"
   ]
  },
  {
   "cell_type": "code",
   "execution_count": 3,
   "metadata": {},
   "outputs": [],
   "source": [
    "data = pd.read_csv('output_time_only.csv')"
   ]
  },
  {
   "cell_type": "code",
   "execution_count": 5,
   "metadata": {},
   "outputs": [],
   "source": [
    "# Remove missing values\n",
    "data = data.dropna()"
   ]
  },
  {
   "cell_type": "code",
   "execution_count": 10,
   "metadata": {},
   "outputs": [
    {
     "name": "stdout",
     "output_type": "stream",
     "text": [
      "  TIMESLOT    DELHI     BRPL    BYPL     NDPL    NDMC    MES\n",
      "0    00:00  2144.41   860.87  428.55   691.40  117.82  25.93\n",
      "1    02:00  1682.70   669.86  316.20   573.91   84.25  22.44\n",
      "2    04:00  1584.39   644.04  289.28   542.23   71.18  22.41\n",
      "3    06:00  2200.73   915.56  424.79   715.59   90.34  30.11\n",
      "4    08:00  3754.84  1570.12  819.50  1188.76  102.39  41.24\n",
      "<class 'pandas.core.frame.DataFrame'>\n",
      "RangeIndex: 9899 entries, 0 to 9898\n",
      "Data columns (total 7 columns):\n",
      " #   Column    Non-Null Count  Dtype  \n",
      "---  ------    --------------  -----  \n",
      " 0   TIMESLOT  9899 non-null   object \n",
      " 1   DELHI     9899 non-null   float64\n",
      " 2   BRPL      9899 non-null   float64\n",
      " 3   BYPL      9899 non-null   float64\n",
      " 4   NDPL      9899 non-null   float64\n",
      " 5   NDMC      9899 non-null   float64\n",
      " 6   MES       9899 non-null   float64\n",
      "dtypes: float64(6), object(1)\n",
      "memory usage: 541.5+ KB\n",
      "None\n"
     ]
    }
   ],
   "source": [
    "# View the first few rows\n",
    "print(data.head())\n",
    "\n",
    "# Get information about data types and missing values\n",
    "print(data.info())\n"
   ]
  }
 ],
 "metadata": {
  "kernelspec": {
   "display_name": "Python 3",
   "language": "python",
   "name": "python3"
  },
  "language_info": {
   "codemirror_mode": {
    "name": "ipython",
    "version": 3
   },
   "file_extension": ".py",
   "mimetype": "text/x-python",
   "name": "python",
   "nbconvert_exporter": "python",
   "pygments_lexer": "ipython3",
   "version": "3.12.3"
  }
 },
 "nbformat": 4,
 "nbformat_minor": 2
}
